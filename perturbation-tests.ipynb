{
 "cells": [
  {
   "cell_type": "code",
   "execution_count": 1,
   "id": "5e367181",
   "metadata": {
    "_cell_guid": "b1076dfc-b9ad-4769-8c92-a6c4dae69d19",
    "_uuid": "8f2839f25d086af736a60e9eeb907d3b93b6e0e5",
    "execution": {
     "iopub.execute_input": "2024-06-01T08:52:01.267123Z",
     "iopub.status.busy": "2024-06-01T08:52:01.266379Z",
     "iopub.status.idle": "2024-06-01T08:52:01.271444Z",
     "shell.execute_reply": "2024-06-01T08:52:01.270547Z"
    },
    "papermill": {
     "duration": 0.013683,
     "end_time": "2024-06-01T08:52:01.273547",
     "exception": false,
     "start_time": "2024-06-01T08:52:01.259864",
     "status": "completed"
    },
    "tags": []
   },
   "outputs": [],
   "source": [
    "# import os"
   ]
  },
  {
   "cell_type": "code",
   "execution_count": 2,
   "id": "fa2ae295",
   "metadata": {
    "execution": {
     "iopub.execute_input": "2024-06-01T08:52:01.284833Z",
     "iopub.status.busy": "2024-06-01T08:52:01.284132Z",
     "iopub.status.idle": "2024-06-01T08:52:05.675877Z",
     "shell.execute_reply": "2024-06-01T08:52:05.674707Z"
    },
    "papermill": {
     "duration": 4.403622,
     "end_time": "2024-06-01T08:52:05.681938",
     "exception": false,
     "start_time": "2024-06-01T08:52:01.278316",
     "status": "completed"
    },
    "tags": []
   },
   "outputs": [
    {
     "name": "stdout",
     "output_type": "stream",
     "text": [
      "Cloning into 'Transformer-MM-Explainability'...\r\n",
      "remote: Enumerating objects: 2225, done.\u001b[K\r\n",
      "remote: Counting objects: 100% (653/653), done.\u001b[K\r\n",
      "remote: Compressing objects: 100% (364/364), done.\u001b[K\r\n",
      "remote: Total 2225 (delta 309), reused 574 (delta 259), pack-reused 1572\u001b[K\r\n",
      "Receiving objects: 100% (2225/2225), 47.31 MiB | 30.43 MiB/s, done.\r\n",
      "Resolving deltas: 100% (991/991), done.\r\n"
     ]
    }
   ],
   "source": [
    "!git clone https://github.com/shiv2110/Transformer-MM-Explainability"
   ]
  },
  {
   "cell_type": "code",
   "execution_count": 3,
   "id": "5ea7d672",
   "metadata": {
    "execution": {
     "iopub.execute_input": "2024-06-01T08:52:05.709601Z",
     "iopub.status.busy": "2024-06-01T08:52:05.709141Z",
     "iopub.status.idle": "2024-06-01T08:52:05.714186Z",
     "shell.execute_reply": "2024-06-01T08:52:05.713338Z"
    },
    "papermill": {
     "duration": 0.019899,
     "end_time": "2024-06-01T08:52:05.716875",
     "exception": false,
     "start_time": "2024-06-01T08:52:05.696976",
     "status": "completed"
    },
    "tags": []
   },
   "outputs": [],
   "source": [
    "# !ls /kaggle/input"
   ]
  },
  {
   "cell_type": "code",
   "execution_count": 4,
   "id": "85f02b77",
   "metadata": {
    "execution": {
     "iopub.execute_input": "2024-06-01T08:52:05.740519Z",
     "iopub.status.busy": "2024-06-01T08:52:05.740088Z",
     "iopub.status.idle": "2024-06-01T08:52:05.747178Z",
     "shell.execute_reply": "2024-06-01T08:52:05.746193Z"
    },
    "papermill": {
     "duration": 0.022989,
     "end_time": "2024-06-01T08:52:05.750740",
     "exception": false,
     "start_time": "2024-06-01T08:52:05.727751",
     "status": "completed"
    },
    "tags": []
   },
   "outputs": [
    {
     "name": "stdout",
     "output_type": "stream",
     "text": [
      "/kaggle/working/Transformer-MM-Explainability\n"
     ]
    }
   ],
   "source": [
    "%cd Transformer-MM-Explainability"
   ]
  },
  {
   "cell_type": "code",
   "execution_count": null,
   "id": "050482e8",
   "metadata": {
    "papermill": {
     "duration": 0.009953,
     "end_time": "2024-06-01T08:52:05.771004",
     "exception": false,
     "start_time": "2024-06-01T08:52:05.761051",
     "status": "completed"
    },
    "tags": []
   },
   "outputs": [],
   "source": []
  },
  {
   "cell_type": "code",
   "execution_count": 5,
   "id": "ef7dc8f9",
   "metadata": {
    "execution": {
     "iopub.execute_input": "2024-06-01T08:52:05.799017Z",
     "iopub.status.busy": "2024-06-01T08:52:05.798534Z",
     "iopub.status.idle": "2024-06-01T08:52:06.847656Z",
     "shell.execute_reply": "2024-06-01T08:52:06.846566Z"
    },
    "papermill": {
     "duration": 1.065181,
     "end_time": "2024-06-01T08:52:06.850321",
     "exception": false,
     "start_time": "2024-06-01T08:52:05.785140",
     "status": "completed"
    },
    "tags": []
   },
   "outputs": [
    {
     "name": "stdout",
     "output_type": "stream",
     "text": [
      "/kaggle/working/Transformer-MM-Explainability\r\n"
     ]
    }
   ],
   "source": [
    "!pwd"
   ]
  },
  {
   "cell_type": "code",
   "execution_count": 6,
   "id": "9d37b167",
   "metadata": {
    "execution": {
     "iopub.execute_input": "2024-06-01T08:52:06.866794Z",
     "iopub.status.busy": "2024-06-01T08:52:06.866362Z",
     "iopub.status.idle": "2024-06-01T08:52:38.571134Z",
     "shell.execute_reply": "2024-06-01T08:52:38.570060Z"
    },
    "papermill": {
     "duration": 31.715812,
     "end_time": "2024-06-01T08:52:38.573599",
     "exception": false,
     "start_time": "2024-06-01T08:52:06.857787",
     "status": "completed"
    },
    "tags": []
   },
   "outputs": [
    {
     "name": "stdout",
     "output_type": "stream",
     "text": [
      "Requirement already satisfied: Pillow>=8.1.1 in /opt/conda/lib/python3.10/site-packages (from -r requirements.txt (line 1)) (9.5.0)\r\n",
      "Collecting einops==0.3.0 (from -r requirements.txt (line 2))\r\n",
      "  Downloading einops-0.3.0-py2.py3-none-any.whl.metadata (10 kB)\r\n",
      "Collecting imageio==2.9.0 (from -r requirements.txt (line 3))\r\n",
      "  Downloading imageio-2.9.0-py3-none-any.whl.metadata (2.6 kB)\r\n",
      "Requirement already satisfied: matplotlib in /opt/conda/lib/python3.10/site-packages (from -r requirements.txt (line 4)) (3.7.5)\r\n",
      "Requirement already satisfied: numpy in /opt/conda/lib/python3.10/site-packages (from -r requirements.txt (line 5)) (1.26.4)\r\n",
      "Requirement already satisfied: opencv_python in /opt/conda/lib/python3.10/site-packages (from -r requirements.txt (line 6)) (4.9.0.80)\r\n",
      "Requirement already satisfied: scipy in /opt/conda/lib/python3.10/site-packages (from -r requirements.txt (line 7)) (1.11.4)\r\n",
      "Requirement already satisfied: scikit-learn in /opt/conda/lib/python3.10/site-packages (from -r requirements.txt (line 8)) (1.2.2)\r\n",
      "Requirement already satisfied: torch in /opt/conda/lib/python3.10/site-packages (from -r requirements.txt (line 9)) (2.1.2)\r\n",
      "Requirement already satisfied: torchvision in /opt/conda/lib/python3.10/site-packages (from -r requirements.txt (line 10)) (0.16.2)\r\n",
      "Collecting tqdm==4.51.0 (from -r requirements.txt (line 11))\r\n",
      "  Downloading tqdm-4.51.0-py2.py3-none-any.whl.metadata (55 kB)\r\n",
      "\u001b[2K     \u001b[90m━━━━━━━━━━━━━━━━━━━━━━━━━━━━━━━━━━━━━━━━\u001b[0m \u001b[32m55.7/55.7 kB\u001b[0m \u001b[31m1.9 MB/s\u001b[0m eta \u001b[36m0:00:00\u001b[0m\r\n",
      "\u001b[?25hCollecting transformers==4.31.0 (from -r requirements.txt (line 12))\r\n",
      "  Downloading transformers-4.31.0-py3-none-any.whl.metadata (116 kB)\r\n",
      "\u001b[2K     \u001b[90m━━━━━━━━━━━━━━━━━━━━━━━━━━━━━━━━━━━━━━━\u001b[0m \u001b[32m116.9/116.9 kB\u001b[0m \u001b[31m4.6 MB/s\u001b[0m eta \u001b[36m0:00:00\u001b[0m\r\n",
      "\u001b[?25hCollecting utils==1.0.1 (from -r requirements.txt (line 13))\r\n",
      "  Downloading utils-1.0.1-py2.py3-none-any.whl.metadata (4.6 kB)\r\n",
      "Collecting captum (from -r requirements.txt (line 14))\r\n",
      "  Downloading captum-0.7.0-py3-none-any.whl.metadata (26 kB)\r\n",
      "Collecting wget (from -r requirements.txt (line 15))\r\n",
      "  Downloading wget-3.2.zip (10 kB)\r\n",
      "  Preparing metadata (setup.py) ... \u001b[?25l-\b \bdone\r\n",
      "\u001b[?25hCollecting ftfy (from -r requirements.txt (line 16))\r\n",
      "  Downloading ftfy-6.2.0-py3-none-any.whl.metadata (7.3 kB)\r\n",
      "Requirement already satisfied: regex in /opt/conda/lib/python3.10/site-packages (from -r requirements.txt (line 17)) (2023.12.25)\r\n",
      "Collecting pymatting (from -r requirements.txt (line 18))\r\n",
      "  Downloading PyMatting-1.1.12-py3-none-any.whl.metadata (7.4 kB)\r\n",
      "Requirement already satisfied: munkres in /opt/conda/lib/python3.10/site-packages (from -r requirements.txt (line 19)) (1.1.4)\r\n",
      "Requirement already satisfied: filelock in /opt/conda/lib/python3.10/site-packages (from transformers==4.31.0->-r requirements.txt (line 12)) (3.13.1)\r\n",
      "Requirement already satisfied: huggingface-hub<1.0,>=0.14.1 in /opt/conda/lib/python3.10/site-packages (from transformers==4.31.0->-r requirements.txt (line 12)) (0.22.2)\r\n",
      "Requirement already satisfied: packaging>=20.0 in /opt/conda/lib/python3.10/site-packages (from transformers==4.31.0->-r requirements.txt (line 12)) (21.3)\r\n",
      "Requirement already satisfied: pyyaml>=5.1 in /opt/conda/lib/python3.10/site-packages (from transformers==4.31.0->-r requirements.txt (line 12)) (6.0.1)\r\n",
      "Requirement already satisfied: requests in /opt/conda/lib/python3.10/site-packages (from transformers==4.31.0->-r requirements.txt (line 12)) (2.31.0)\r\n",
      "Collecting tokenizers!=0.11.3,<0.14,>=0.11.1 (from transformers==4.31.0->-r requirements.txt (line 12))\r\n",
      "  Downloading tokenizers-0.13.3-cp310-cp310-manylinux_2_17_x86_64.manylinux2014_x86_64.whl.metadata (6.7 kB)\r\n",
      "Requirement already satisfied: safetensors>=0.3.1 in /opt/conda/lib/python3.10/site-packages (from transformers==4.31.0->-r requirements.txt (line 12)) (0.4.3)\r\n",
      "Requirement already satisfied: contourpy>=1.0.1 in /opt/conda/lib/python3.10/site-packages (from matplotlib->-r requirements.txt (line 4)) (1.2.0)\r\n",
      "Requirement already satisfied: cycler>=0.10 in /opt/conda/lib/python3.10/site-packages (from matplotlib->-r requirements.txt (line 4)) (0.12.1)\r\n",
      "Requirement already satisfied: fonttools>=4.22.0 in /opt/conda/lib/python3.10/site-packages (from matplotlib->-r requirements.txt (line 4)) (4.47.0)\r\n",
      "Requirement already satisfied: kiwisolver>=1.0.1 in /opt/conda/lib/python3.10/site-packages (from matplotlib->-r requirements.txt (line 4)) (1.4.5)\r\n",
      "Requirement already satisfied: pyparsing>=2.3.1 in /opt/conda/lib/python3.10/site-packages (from matplotlib->-r requirements.txt (line 4)) (3.1.1)\r\n",
      "Requirement already satisfied: python-dateutil>=2.7 in /opt/conda/lib/python3.10/site-packages (from matplotlib->-r requirements.txt (line 4)) (2.9.0.post0)\r\n",
      "Requirement already satisfied: joblib>=1.1.1 in /opt/conda/lib/python3.10/site-packages (from scikit-learn->-r requirements.txt (line 8)) (1.4.0)\r\n",
      "Requirement already satisfied: threadpoolctl>=2.0.0 in /opt/conda/lib/python3.10/site-packages (from scikit-learn->-r requirements.txt (line 8)) (3.2.0)\r\n",
      "Requirement already satisfied: typing-extensions in /opt/conda/lib/python3.10/site-packages (from torch->-r requirements.txt (line 9)) (4.9.0)\r\n",
      "Requirement already satisfied: sympy in /opt/conda/lib/python3.10/site-packages (from torch->-r requirements.txt (line 9)) (1.12)\r\n",
      "Requirement already satisfied: networkx in /opt/conda/lib/python3.10/site-packages (from torch->-r requirements.txt (line 9)) (3.2.1)\r\n",
      "Requirement already satisfied: jinja2 in /opt/conda/lib/python3.10/site-packages (from torch->-r requirements.txt (line 9)) (3.1.2)\r\n",
      "Requirement already satisfied: fsspec in /opt/conda/lib/python3.10/site-packages (from torch->-r requirements.txt (line 9)) (2024.2.0)\r\n",
      "Requirement already satisfied: wcwidth<0.3.0,>=0.2.12 in /opt/conda/lib/python3.10/site-packages (from ftfy->-r requirements.txt (line 16)) (0.2.13)\r\n",
      "Requirement already satisfied: numba!=0.49.0 in /opt/conda/lib/python3.10/site-packages (from pymatting->-r requirements.txt (line 18)) (0.58.1)\r\n",
      "Requirement already satisfied: llvmlite<0.42,>=0.41.0dev0 in /opt/conda/lib/python3.10/site-packages (from numba!=0.49.0->pymatting->-r requirements.txt (line 18)) (0.41.1)\r\n",
      "Requirement already satisfied: six>=1.5 in /opt/conda/lib/python3.10/site-packages (from python-dateutil>=2.7->matplotlib->-r requirements.txt (line 4)) (1.16.0)\r\n",
      "Requirement already satisfied: MarkupSafe>=2.0 in /opt/conda/lib/python3.10/site-packages (from jinja2->torch->-r requirements.txt (line 9)) (2.1.3)\r\n",
      "Requirement already satisfied: charset-normalizer<4,>=2 in /opt/conda/lib/python3.10/site-packages (from requests->transformers==4.31.0->-r requirements.txt (line 12)) (3.3.2)\r\n",
      "Requirement already satisfied: idna<4,>=2.5 in /opt/conda/lib/python3.10/site-packages (from requests->transformers==4.31.0->-r requirements.txt (line 12)) (3.6)\r\n",
      "Requirement already satisfied: urllib3<3,>=1.21.1 in /opt/conda/lib/python3.10/site-packages (from requests->transformers==4.31.0->-r requirements.txt (line 12)) (1.26.18)\r\n",
      "Requirement already satisfied: certifi>=2017.4.17 in /opt/conda/lib/python3.10/site-packages (from requests->transformers==4.31.0->-r requirements.txt (line 12)) (2024.2.2)\r\n",
      "Requirement already satisfied: mpmath>=0.19 in /opt/conda/lib/python3.10/site-packages (from sympy->torch->-r requirements.txt (line 9)) (1.3.0)\r\n",
      "Downloading einops-0.3.0-py2.py3-none-any.whl (25 kB)\r\n",
      "Downloading imageio-2.9.0-py3-none-any.whl (3.3 MB)\r\n",
      "\u001b[2K   \u001b[90m━━━━━━━━━━━━━━━━━━━━━━━━━━━━━━━━━━━━━━━━\u001b[0m \u001b[32m3.3/3.3 MB\u001b[0m \u001b[31m47.9 MB/s\u001b[0m eta \u001b[36m0:00:00\u001b[0m\r\n",
      "\u001b[?25hDownloading tqdm-4.51.0-py2.py3-none-any.whl (70 kB)\r\n",
      "\u001b[2K   \u001b[90m━━━━━━━━━━━━━━━━━━━━━━━━━━━━━━━━━━━━━━━━\u001b[0m \u001b[32m71.0/71.0 kB\u001b[0m \u001b[31m4.6 MB/s\u001b[0m eta \u001b[36m0:00:00\u001b[0m\r\n",
      "\u001b[?25hDownloading transformers-4.31.0-py3-none-any.whl (7.4 MB)\r\n",
      "\u001b[2K   \u001b[90m━━━━━━━━━━━━━━━━━━━━━━━━━━━━━━━━━━━━━━━━\u001b[0m \u001b[32m7.4/7.4 MB\u001b[0m \u001b[31m82.6 MB/s\u001b[0m eta \u001b[36m0:00:00\u001b[0m\r\n",
      "\u001b[?25hDownloading utils-1.0.1-py2.py3-none-any.whl (21 kB)\r\n",
      "Downloading captum-0.7.0-py3-none-any.whl (1.3 MB)\r\n",
      "\u001b[2K   \u001b[90m━━━━━━━━━━━━━━━━━━━━━━━━━━━━━━━━━━━━━━━━\u001b[0m \u001b[32m1.3/1.3 MB\u001b[0m \u001b[31m49.7 MB/s\u001b[0m eta \u001b[36m0:00:00\u001b[0m\r\n",
      "\u001b[?25hDownloading ftfy-6.2.0-py3-none-any.whl (54 kB)\r\n",
      "\u001b[2K   \u001b[90m━━━━━━━━━━━━━━━━━━━━━━━━━━━━━━━━━━━━━━━━\u001b[0m \u001b[32m54.4/54.4 kB\u001b[0m \u001b[31m3.9 MB/s\u001b[0m eta \u001b[36m0:00:00\u001b[0m\r\n",
      "\u001b[?25hDownloading PyMatting-1.1.12-py3-none-any.whl (52 kB)\r\n",
      "\u001b[2K   \u001b[90m━━━━━━━━━━━━━━━━━━━━━━━━━━━━━━━━━━━━━━━━\u001b[0m \u001b[32m53.0/53.0 kB\u001b[0m \u001b[31m3.6 MB/s\u001b[0m eta \u001b[36m0:00:00\u001b[0m\r\n",
      "\u001b[?25hDownloading tokenizers-0.13.3-cp310-cp310-manylinux_2_17_x86_64.manylinux2014_x86_64.whl (7.8 MB)\r\n",
      "\u001b[2K   \u001b[90m━━━━━━━━━━━━━━━━━━━━━━━━━━━━━━━━━━━━━━━━\u001b[0m \u001b[32m7.8/7.8 MB\u001b[0m \u001b[31m89.2 MB/s\u001b[0m eta \u001b[36m0:00:00\u001b[0m\r\n",
      "\u001b[?25hBuilding wheels for collected packages: wget\r\n",
      "  Building wheel for wget (setup.py) ... \u001b[?25l-\b \b\\\b \bdone\r\n",
      "\u001b[?25h  Created wheel for wget: filename=wget-3.2-py3-none-any.whl size=9655 sha256=6f118672824040e5847c4e369aca265ba585bf5c581959e1e3e08a0bea66d541\r\n",
      "  Stored in directory: /root/.cache/pip/wheels/8b/f1/7f/5c94f0a7a505ca1c81cd1d9208ae2064675d97582078e6c769\r\n",
      "Successfully built wget\r\n",
      "Installing collected packages: wget, tokenizers, einops, utils, tqdm, imageio, ftfy, pymatting, transformers, captum\r\n",
      "  Attempting uninstall: tokenizers\r\n",
      "    Found existing installation: tokenizers 0.15.2\r\n",
      "    Uninstalling tokenizers-0.15.2:\r\n",
      "      Successfully uninstalled tokenizers-0.15.2\r\n",
      "  Attempting uninstall: tqdm\r\n",
      "    Found existing installation: tqdm 4.66.1\r\n",
      "    Uninstalling tqdm-4.66.1:\r\n",
      "      Successfully uninstalled tqdm-4.66.1\r\n",
      "  Attempting uninstall: imageio\r\n",
      "    Found existing installation: imageio 2.33.1\r\n",
      "    Uninstalling imageio-2.33.1:\r\n",
      "      Successfully uninstalled imageio-2.33.1\r\n",
      "  Attempting uninstall: transformers\r\n",
      "    Found existing installation: transformers 4.39.3\r\n",
      "    Uninstalling transformers-4.39.3:\r\n",
      "      Successfully uninstalled transformers-4.39.3\r\n",
      "\u001b[31mERROR: pip's dependency resolver does not currently take into account all the packages that are installed. This behaviour is the source of the following dependency conflicts.\r\n",
      "keras-cv 0.8.2 requires keras-core, which is not installed.\r\n",
      "keras-nlp 0.9.3 requires keras-core, which is not installed.\r\n",
      "beatrix-jupyterlab 2023.128.151533 requires jupyterlab~=3.6.0, but you have jupyterlab 4.1.6 which is incompatible.\r\n",
      "datasets 2.18.0 requires tqdm>=4.62.1, but you have tqdm 4.51.0 which is incompatible.\r\n",
      "fitter 1.7.0 requires tqdm<5.0.0,>=4.65.1, but you have tqdm 4.51.0 which is incompatible.\r\n",
      "kaggle-environments 1.14.3 requires transformers>=4.33.1, but you have transformers 4.31.0 which is incompatible.\r\n",
      "momepy 0.7.0 requires shapely>=2, but you have shapely 1.8.5.post1 which is incompatible.\r\n",
      "momepy 0.7.0 requires tqdm>=4.63.0, but you have tqdm 4.51.0 which is incompatible.\r\n",
      "pytorch-lightning 2.2.2 requires tqdm>=4.57.0, but you have tqdm 4.51.0 which is incompatible.\r\n",
      "scikit-image 0.22.0 requires imageio>=2.27, but you have imageio 2.9.0 which is incompatible.\r\n",
      "spopt 0.6.0 requires shapely>=2.0.1, but you have shapely 1.8.5.post1 which is incompatible.\r\n",
      "spopt 0.6.0 requires tqdm>=4.63.0, but you have tqdm 4.51.0 which is incompatible.\r\n",
      "ydata-profiling 4.6.4 requires numpy<1.26,>=1.16.0, but you have numpy 1.26.4 which is incompatible.\u001b[0m\u001b[31m\r\n",
      "\u001b[0mSuccessfully installed captum-0.7.0 einops-0.3.0 ftfy-6.2.0 imageio-2.9.0 pymatting-1.1.12 tokenizers-0.13.3 tqdm-4.51.0 transformers-4.31.0 utils-1.0.1 wget-3.2\r\n"
     ]
    }
   ],
   "source": [
    "!pip install -r requirements.txt"
   ]
  },
  {
   "cell_type": "code",
   "execution_count": 7,
   "id": "db0a83f3",
   "metadata": {
    "collapsed": true,
    "execution": {
     "iopub.execute_input": "2024-06-01T08:52:38.599772Z",
     "iopub.status.busy": "2024-06-01T08:52:38.599370Z",
     "iopub.status.idle": "2024-06-01T08:52:38.604281Z",
     "shell.execute_reply": "2024-06-01T08:52:38.603288Z"
    },
    "jupyter": {
     "outputs_hidden": true
    },
    "papermill": {
     "duration": 0.020736,
     "end_time": "2024-06-01T08:52:38.606586",
     "exception": false,
     "start_time": "2024-06-01T08:52:38.585850",
     "status": "completed"
    },
    "tags": []
   },
   "outputs": [],
   "source": [
    "# !python lxmert/lxmert/perturbation.py --COCO_path /kaggle/input/sample-val2014/ --method \"dsm_grad\" --is-positive-pert True"
   ]
  },
  {
   "cell_type": "code",
   "execution_count": 8,
   "id": "44787a7b",
   "metadata": {
    "execution": {
     "iopub.execute_input": "2024-06-01T08:52:38.632296Z",
     "iopub.status.busy": "2024-06-01T08:52:38.631672Z",
     "iopub.status.idle": "2024-06-01T08:52:38.636186Z",
     "shell.execute_reply": "2024-06-01T08:52:38.634979Z"
    },
    "papermill": {
     "duration": 0.020433,
     "end_time": "2024-06-01T08:52:38.639172",
     "exception": false,
     "start_time": "2024-06-01T08:52:38.618739",
     "status": "completed"
    },
    "tags": []
   },
   "outputs": [],
   "source": [
    "# Acc: [66.62, 58.65, 55.22, 50.45, 48.06, 47.26, 44.81, 38.86, 39.79]"
   ]
  },
  {
   "cell_type": "code",
   "execution_count": 9,
   "id": "6e327b4f",
   "metadata": {
    "execution": {
     "iopub.execute_input": "2024-06-01T08:52:38.666134Z",
     "iopub.status.busy": "2024-06-01T08:52:38.665280Z",
     "iopub.status.idle": "2024-06-01T08:52:38.669731Z",
     "shell.execute_reply": "2024-06-01T08:52:38.668786Z"
    },
    "papermill": {
     "duration": 0.020535,
     "end_time": "2024-06-01T08:52:38.671803",
     "exception": false,
     "start_time": "2024-06-01T08:52:38.651268",
     "status": "completed"
    },
    "tags": []
   },
   "outputs": [],
   "source": [
    "# !python lxmert/lxmert/perturbation.py --COCO_path /kaggle/input/sample-val2014/ --method \"partial_lrp\" --is-positive-pert True --is-text-pert True"
   ]
  },
  {
   "cell_type": "code",
   "execution_count": 10,
   "id": "e18dd446",
   "metadata": {
    "execution": {
     "iopub.execute_input": "2024-06-01T08:52:38.698181Z",
     "iopub.status.busy": "2024-06-01T08:52:38.697439Z",
     "iopub.status.idle": "2024-06-01T09:59:13.165510Z",
     "shell.execute_reply": "2024-06-01T09:59:13.164279Z"
    },
    "papermill": {
     "duration": 3994.483773,
     "end_time": "2024-06-01T09:59:13.167813",
     "exception": false,
     "start_time": "2024-06-01T08:52:38.684040",
     "status": "completed"
    },
    "tags": []
   },
   "outputs": [
    {
     "name": "stdout",
     "output_type": "stream",
     "text": [
      "%s not found in cache or force_download set to True, downloading to %s https://s3.amazonaws.com/models.huggingface.co/bert/unc-nlp/frcnn-vg-finetuned/config.yaml /root/.cache/torch/transformers/tmpiq7j5lnq\r\n",
      "Downloading: 100%|█████████████████████████| 2.13k/2.13k [00:00<00:00, 5.78MB/s]\r\n",
      "loading configuration file cache\r\n",
      "%s not found in cache or force_download set to True, downloading to %s https://cdn.huggingface.co/unc-nlp/frcnn-vg-finetuned/pytorch_model.bin /root/.cache/torch/transformers/tmppxrdtxp4\r\n",
      "Downloading: 100%|███████████████████████████| 262M/262M [00:05<00:00, 49.2MB/s]\r\n",
      "loading weights file https://cdn.huggingface.co/unc-nlp/frcnn-vg-finetuned/pytorch_model.bin from cache at /root/.cache/torch/transformers/57f6df6abe353be2773f2700159c65615babf39ab5b48114d2b49267672ae10f.77b59256a4cf8343ae0f923246a81489fc8d82f98d082edc2d2037c977c0d9d0\r\n",
      "All model checkpoint weights were used when initializing GeneralizedRCNN.\r\n",
      "\r\n",
      "All the weights of GeneralizedRCNN were initialized from the model checkpoint at unc-nlp/frcnn-vg-finetuned.\r\n",
      "If your task is similar to the task the model of the checkpoint was trained on, you can already use GeneralizedRCNN for predictions without further training.\r\n",
      "vocab.txt: 100%|█████████████████████████████| 232k/232k [00:00<00:00, 4.98MB/s]\r\n",
      "special_tokens_map.json: 100%|██████████████████| 112/112 [00:00<00:00, 506kB/s]\r\n",
      "tokenizer_config.json: 100%|████████████████████| 153/153 [00:00<00:00, 820kB/s]\r\n",
      "config.json: 100%|█████████████████████████████| 776/776 [00:00<00:00, 3.47MB/s]\r\n",
      "config.json: 100%|█████████████████████████████| 880/880 [00:00<00:00, 4.05MB/s]\r\n",
      "pytorch_model.bin: 100%|█████████████████████| 856M/856M [00:31<00:00, 27.4MB/s]\r\n",
      "Load 3303 data from split(s) valid.\r\n",
      "Load 3303 data from split(s) valid.\r\n",
      "  0%|                                                  | 0/3303 [00:00<?, ?it/s]running negative pert test for image modality with method dsm_grad\r\n",
      "/opt/conda/lib/python3.10/site-packages/torch/functional.py:504: UserWarning: torch.meshgrid: in an upcoming release, it will be required to pass the indexing argument. (Triggered internally at /usr/local/src/pytorch/aten/src/ATen/native/TensorShape.cpp:3526.)\r\n",
      "  return _VF.meshgrid(tensors, **kwargs)  # type: ignore[attr-defined]\r\n",
      "/kaggle/working/Transformer-MM-Explainability/lxmert/lxmert/src/ExplanationGenerator.py:528: UserWarning: Casting complex values to real discards the imaginary part (Triggered internally at /usr/local/src/pytorch/aten/src/ATen/native/Copy.cpp:299.)\r\n",
      "  eigenvalues, eigenvectors = torch.from_numpy(eigenvalues), torch.from_numpy(eigenvectors.T).float()\r\n",
      "Acc: [66.62, 66.83, 65.47, 61.62, 59.99, 57.54, 52.91, 42.4, 39.79]: 100%|█| 330\r\n",
      "\u001b[0m"
     ]
    }
   ],
   "source": [
    "!python lxmert/lxmert/perturbation.py --COCO_path /kaggle/input/sample-val2014/ --method \"dsm_grad\""
   ]
  },
  {
   "cell_type": "code",
   "execution_count": 11,
   "id": "58feccc2",
   "metadata": {
    "execution": {
     "iopub.execute_input": "2024-06-01T09:59:14.262531Z",
     "iopub.status.busy": "2024-06-01T09:59:14.261634Z",
     "iopub.status.idle": "2024-06-01T09:59:14.266411Z",
     "shell.execute_reply": "2024-06-01T09:59:14.265562Z"
    },
    "papermill": {
     "duration": 0.55684,
     "end_time": "2024-06-01T09:59:14.268339",
     "exception": false,
     "start_time": "2024-06-01T09:59:13.711499",
     "status": "completed"
    },
    "tags": []
   },
   "outputs": [],
   "source": [
    "# !python lxmert/lxmert/perturbation.py --COCO_path /kaggle/input/sample-val2014/ --method \"partial_lrp\" --is-text-pert True"
   ]
  },
  {
   "cell_type": "code",
   "execution_count": null,
   "id": "b53faaa5",
   "metadata": {
    "papermill": {
     "duration": 0.5528,
     "end_time": "2024-06-01T09:59:15.461791",
     "exception": false,
     "start_time": "2024-06-01T09:59:14.908991",
     "status": "completed"
    },
    "tags": []
   },
   "outputs": [],
   "source": []
  }
 ],
 "metadata": {
  "kaggle": {
   "accelerator": "gpu",
   "dataSources": [
    {
     "datasetId": 5110830,
     "sourceId": 8552460,
     "sourceType": "datasetVersion"
    }
   ],
   "dockerImageVersionId": 30699,
   "isGpuEnabled": true,
   "isInternetEnabled": true,
   "language": "python",
   "sourceType": "notebook"
  },
  "kernelspec": {
   "display_name": "Python 3",
   "language": "python",
   "name": "python3"
  },
  "language_info": {
   "codemirror_mode": {
    "name": "ipython",
    "version": 3
   },
   "file_extension": ".py",
   "mimetype": "text/x-python",
   "name": "python",
   "nbconvert_exporter": "python",
   "pygments_lexer": "ipython3",
   "version": "3.10.13"
  },
  "papermill": {
   "default_parameters": {},
   "duration": 4038.105505,
   "end_time": "2024-06-01T09:59:16.359808",
   "environment_variables": {},
   "exception": null,
   "input_path": "__notebook__.ipynb",
   "output_path": "__notebook__.ipynb",
   "parameters": {},
   "start_time": "2024-06-01T08:51:58.254303",
   "version": "2.5.0"
  }
 },
 "nbformat": 4,
 "nbformat_minor": 5
}
