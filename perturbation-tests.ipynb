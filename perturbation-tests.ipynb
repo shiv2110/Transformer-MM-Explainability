{
 "cells": [
  {
   "cell_type": "code",
   "execution_count": 1,
   "id": "91a8a01c",
   "metadata": {
    "_cell_guid": "b1076dfc-b9ad-4769-8c92-a6c4dae69d19",
    "_uuid": "8f2839f25d086af736a60e9eeb907d3b93b6e0e5",
    "execution": {
     "iopub.execute_input": "2024-06-11T15:34:47.660750Z",
     "iopub.status.busy": "2024-06-11T15:34:47.660131Z",
     "iopub.status.idle": "2024-06-11T15:34:47.664282Z",
     "shell.execute_reply": "2024-06-11T15:34:47.663572Z"
    },
    "papermill": {
     "duration": 0.011578,
     "end_time": "2024-06-11T15:34:47.666176",
     "exception": false,
     "start_time": "2024-06-11T15:34:47.654598",
     "status": "completed"
    },
    "tags": []
   },
   "outputs": [],
   "source": [
    "# import os"
   ]
  },
  {
   "cell_type": "code",
   "execution_count": 2,
   "id": "a97e96ae",
   "metadata": {
    "execution": {
     "iopub.execute_input": "2024-06-11T15:34:47.675669Z",
     "iopub.status.busy": "2024-06-11T15:34:47.675052Z",
     "iopub.status.idle": "2024-06-11T15:34:53.003025Z",
     "shell.execute_reply": "2024-06-11T15:34:53.001580Z"
    },
    "papermill": {
     "duration": 5.335893,
     "end_time": "2024-06-11T15:34:53.006259",
     "exception": false,
     "start_time": "2024-06-11T15:34:47.670366",
     "status": "completed"
    },
    "tags": []
   },
   "outputs": [
    {
     "name": "stdout",
     "output_type": "stream",
     "text": [
      "Cloning into 'Transformer-MM-Explainability'...\r\n",
      "remote: Enumerating objects: 2570, done.\u001b[K\r\n",
      "remote: Counting objects: 100% (998/998), done.\u001b[K\r\n",
      "remote: Compressing objects: 100% (553/553), done.\u001b[K\r\n",
      "remote: Total 2570 (delta 505), reused 831 (delta 391), pack-reused 1572\u001b[K\r\n",
      "Receiving objects: 100% (2570/2570), 54.02 MiB | 31.30 MiB/s, done.\r\n",
      "Resolving deltas: 100% (1187/1187), done.\r\n"
     ]
    }
   ],
   "source": [
    "!git clone https://github.com/shiv2110/Transformer-MM-Explainability"
   ]
  },
  {
   "cell_type": "code",
   "execution_count": 3,
   "id": "dfe0a277",
   "metadata": {
    "execution": {
     "iopub.execute_input": "2024-06-11T15:34:53.029681Z",
     "iopub.status.busy": "2024-06-11T15:34:53.029327Z",
     "iopub.status.idle": "2024-06-11T15:34:53.034130Z",
     "shell.execute_reply": "2024-06-11T15:34:53.033125Z"
    },
    "papermill": {
     "duration": 0.019583,
     "end_time": "2024-06-11T15:34:53.036452",
     "exception": false,
     "start_time": "2024-06-11T15:34:53.016869",
     "status": "completed"
    },
    "tags": []
   },
   "outputs": [],
   "source": [
    "# !ls /kaggle/input"
   ]
  },
  {
   "cell_type": "code",
   "execution_count": 4,
   "id": "9f17e73b",
   "metadata": {
    "execution": {
     "iopub.execute_input": "2024-06-11T15:34:53.057827Z",
     "iopub.status.busy": "2024-06-11T15:34:53.057550Z",
     "iopub.status.idle": "2024-06-11T15:34:53.063966Z",
     "shell.execute_reply": "2024-06-11T15:34:53.062917Z"
    },
    "papermill": {
     "duration": 0.020078,
     "end_time": "2024-06-11T15:34:53.067007",
     "exception": false,
     "start_time": "2024-06-11T15:34:53.046929",
     "status": "completed"
    },
    "tags": []
   },
   "outputs": [
    {
     "name": "stdout",
     "output_type": "stream",
     "text": [
      "/kaggle/working/Transformer-MM-Explainability\n"
     ]
    }
   ],
   "source": [
    "%cd Transformer-MM-Explainability"
   ]
  },
  {
   "cell_type": "code",
   "execution_count": null,
   "id": "a9b3b4d9",
   "metadata": {
    "papermill": {
     "duration": 0.007198,
     "end_time": "2024-06-11T15:34:53.082474",
     "exception": false,
     "start_time": "2024-06-11T15:34:53.075276",
     "status": "completed"
    },
    "tags": []
   },
   "outputs": [],
   "source": []
  },
  {
   "cell_type": "code",
   "execution_count": 5,
   "id": "398e4223",
   "metadata": {
    "execution": {
     "iopub.execute_input": "2024-06-11T15:34:53.098231Z",
     "iopub.status.busy": "2024-06-11T15:34:53.097966Z",
     "iopub.status.idle": "2024-06-11T15:34:54.041544Z",
     "shell.execute_reply": "2024-06-11T15:34:54.040460Z"
    },
    "papermill": {
     "duration": 0.954075,
     "end_time": "2024-06-11T15:34:54.043720",
     "exception": false,
     "start_time": "2024-06-11T15:34:53.089645",
     "status": "completed"
    },
    "tags": []
   },
   "outputs": [
    {
     "name": "stdout",
     "output_type": "stream",
     "text": [
      "/kaggle/working/Transformer-MM-Explainability\r\n"
     ]
    }
   ],
   "source": [
    "!pwd"
   ]
  },
  {
   "cell_type": "code",
   "execution_count": 6,
   "id": "3bd29d2e",
   "metadata": {
    "execution": {
     "iopub.execute_input": "2024-06-11T15:34:54.059881Z",
     "iopub.status.busy": "2024-06-11T15:34:54.059571Z",
     "iopub.status.idle": "2024-06-11T15:35:22.300154Z",
     "shell.execute_reply": "2024-06-11T15:35:22.299006Z"
    },
    "papermill": {
     "duration": 28.251498,
     "end_time": "2024-06-11T15:35:22.302635",
     "exception": false,
     "start_time": "2024-06-11T15:34:54.051137",
     "status": "completed"
    },
    "tags": []
   },
   "outputs": [
    {
     "name": "stdout",
     "output_type": "stream",
     "text": [
      "Requirement already satisfied: Pillow>=8.1.1 in /opt/conda/lib/python3.10/site-packages (from -r requirements.txt (line 1)) (9.5.0)\r\n",
      "Collecting einops==0.3.0 (from -r requirements.txt (line 2))\r\n",
      "  Downloading einops-0.3.0-py2.py3-none-any.whl.metadata (10 kB)\r\n",
      "Collecting imageio==2.9.0 (from -r requirements.txt (line 3))\r\n",
      "  Downloading imageio-2.9.0-py3-none-any.whl.metadata (2.6 kB)\r\n",
      "Requirement already satisfied: matplotlib in /opt/conda/lib/python3.10/site-packages (from -r requirements.txt (line 4)) (3.7.5)\r\n",
      "Requirement already satisfied: numpy in /opt/conda/lib/python3.10/site-packages (from -r requirements.txt (line 5)) (1.26.4)\r\n",
      "Requirement already satisfied: opencv_python in /opt/conda/lib/python3.10/site-packages (from -r requirements.txt (line 6)) (4.9.0.80)\r\n",
      "Requirement already satisfied: scipy in /opt/conda/lib/python3.10/site-packages (from -r requirements.txt (line 7)) (1.11.4)\r\n",
      "Requirement already satisfied: scikit-learn in /opt/conda/lib/python3.10/site-packages (from -r requirements.txt (line 8)) (1.2.2)\r\n",
      "Requirement already satisfied: torch in /opt/conda/lib/python3.10/site-packages (from -r requirements.txt (line 9)) (2.1.2)\r\n",
      "Requirement already satisfied: torchvision in /opt/conda/lib/python3.10/site-packages (from -r requirements.txt (line 10)) (0.16.2)\r\n",
      "Collecting tqdm==4.51.0 (from -r requirements.txt (line 11))\r\n",
      "  Downloading tqdm-4.51.0-py2.py3-none-any.whl.metadata (55 kB)\r\n",
      "\u001b[2K     \u001b[90m━━━━━━━━━━━━━━━━━━━━━━━━━━━━━━━━━━━━━━━━\u001b[0m \u001b[32m55.7/55.7 kB\u001b[0m \u001b[31m2.0 MB/s\u001b[0m eta \u001b[36m0:00:00\u001b[0m\r\n",
      "\u001b[?25hCollecting transformers==4.31.0 (from -r requirements.txt (line 12))\r\n",
      "  Downloading transformers-4.31.0-py3-none-any.whl.metadata (116 kB)\r\n",
      "\u001b[2K     \u001b[90m━━━━━━━━━━━━━━━━━━━━━━━━━━━━━━━━━━━━━━━\u001b[0m \u001b[32m116.9/116.9 kB\u001b[0m \u001b[31m4.8 MB/s\u001b[0m eta \u001b[36m0:00:00\u001b[0m\r\n",
      "\u001b[?25hCollecting utils==1.0.1 (from -r requirements.txt (line 13))\r\n",
      "  Downloading utils-1.0.1-py2.py3-none-any.whl.metadata (4.6 kB)\r\n",
      "Collecting captum (from -r requirements.txt (line 14))\r\n",
      "  Downloading captum-0.7.0-py3-none-any.whl.metadata (26 kB)\r\n",
      "Collecting wget (from -r requirements.txt (line 15))\r\n",
      "  Downloading wget-3.2.zip (10 kB)\r\n",
      "  Preparing metadata (setup.py) ... \u001b[?25l-\b \bdone\r\n",
      "\u001b[?25hCollecting ftfy (from -r requirements.txt (line 16))\r\n",
      "  Downloading ftfy-6.2.0-py3-none-any.whl.metadata (7.3 kB)\r\n",
      "Requirement already satisfied: regex in /opt/conda/lib/python3.10/site-packages (from -r requirements.txt (line 17)) (2023.12.25)\r\n",
      "Collecting pymatting (from -r requirements.txt (line 18))\r\n",
      "  Downloading PyMatting-1.1.12-py3-none-any.whl.metadata (7.4 kB)\r\n",
      "Requirement already satisfied: munkres in /opt/conda/lib/python3.10/site-packages (from -r requirements.txt (line 19)) (1.1.4)\r\n",
      "Requirement already satisfied: filelock in /opt/conda/lib/python3.10/site-packages (from transformers==4.31.0->-r requirements.txt (line 12)) (3.13.1)\r\n",
      "Requirement already satisfied: huggingface-hub<1.0,>=0.14.1 in /opt/conda/lib/python3.10/site-packages (from transformers==4.31.0->-r requirements.txt (line 12)) (0.22.2)\r\n",
      "Requirement already satisfied: packaging>=20.0 in /opt/conda/lib/python3.10/site-packages (from transformers==4.31.0->-r requirements.txt (line 12)) (21.3)\r\n",
      "Requirement already satisfied: pyyaml>=5.1 in /opt/conda/lib/python3.10/site-packages (from transformers==4.31.0->-r requirements.txt (line 12)) (6.0.1)\r\n",
      "Requirement already satisfied: requests in /opt/conda/lib/python3.10/site-packages (from transformers==4.31.0->-r requirements.txt (line 12)) (2.31.0)\r\n",
      "Collecting tokenizers!=0.11.3,<0.14,>=0.11.1 (from transformers==4.31.0->-r requirements.txt (line 12))\r\n",
      "  Downloading tokenizers-0.13.3-cp310-cp310-manylinux_2_17_x86_64.manylinux2014_x86_64.whl.metadata (6.7 kB)\r\n",
      "Requirement already satisfied: safetensors>=0.3.1 in /opt/conda/lib/python3.10/site-packages (from transformers==4.31.0->-r requirements.txt (line 12)) (0.4.3)\r\n",
      "Requirement already satisfied: contourpy>=1.0.1 in /opt/conda/lib/python3.10/site-packages (from matplotlib->-r requirements.txt (line 4)) (1.2.0)\r\n",
      "Requirement already satisfied: cycler>=0.10 in /opt/conda/lib/python3.10/site-packages (from matplotlib->-r requirements.txt (line 4)) (0.12.1)\r\n",
      "Requirement already satisfied: fonttools>=4.22.0 in /opt/conda/lib/python3.10/site-packages (from matplotlib->-r requirements.txt (line 4)) (4.47.0)\r\n",
      "Requirement already satisfied: kiwisolver>=1.0.1 in /opt/conda/lib/python3.10/site-packages (from matplotlib->-r requirements.txt (line 4)) (1.4.5)\r\n",
      "Requirement already satisfied: pyparsing>=2.3.1 in /opt/conda/lib/python3.10/site-packages (from matplotlib->-r requirements.txt (line 4)) (3.1.1)\r\n",
      "Requirement already satisfied: python-dateutil>=2.7 in /opt/conda/lib/python3.10/site-packages (from matplotlib->-r requirements.txt (line 4)) (2.9.0.post0)\r\n",
      "Requirement already satisfied: joblib>=1.1.1 in /opt/conda/lib/python3.10/site-packages (from scikit-learn->-r requirements.txt (line 8)) (1.4.0)\r\n",
      "Requirement already satisfied: threadpoolctl>=2.0.0 in /opt/conda/lib/python3.10/site-packages (from scikit-learn->-r requirements.txt (line 8)) (3.2.0)\r\n",
      "Requirement already satisfied: typing-extensions in /opt/conda/lib/python3.10/site-packages (from torch->-r requirements.txt (line 9)) (4.9.0)\r\n",
      "Requirement already satisfied: sympy in /opt/conda/lib/python3.10/site-packages (from torch->-r requirements.txt (line 9)) (1.12)\r\n",
      "Requirement already satisfied: networkx in /opt/conda/lib/python3.10/site-packages (from torch->-r requirements.txt (line 9)) (3.2.1)\r\n",
      "Requirement already satisfied: jinja2 in /opt/conda/lib/python3.10/site-packages (from torch->-r requirements.txt (line 9)) (3.1.2)\r\n",
      "Requirement already satisfied: fsspec in /opt/conda/lib/python3.10/site-packages (from torch->-r requirements.txt (line 9)) (2024.2.0)\r\n",
      "Requirement already satisfied: wcwidth<0.3.0,>=0.2.12 in /opt/conda/lib/python3.10/site-packages (from ftfy->-r requirements.txt (line 16)) (0.2.13)\r\n",
      "Requirement already satisfied: numba!=0.49.0 in /opt/conda/lib/python3.10/site-packages (from pymatting->-r requirements.txt (line 18)) (0.58.1)\r\n",
      "Requirement already satisfied: llvmlite<0.42,>=0.41.0dev0 in /opt/conda/lib/python3.10/site-packages (from numba!=0.49.0->pymatting->-r requirements.txt (line 18)) (0.41.1)\r\n",
      "Requirement already satisfied: six>=1.5 in /opt/conda/lib/python3.10/site-packages (from python-dateutil>=2.7->matplotlib->-r requirements.txt (line 4)) (1.16.0)\r\n",
      "Requirement already satisfied: MarkupSafe>=2.0 in /opt/conda/lib/python3.10/site-packages (from jinja2->torch->-r requirements.txt (line 9)) (2.1.3)\r\n",
      "Requirement already satisfied: charset-normalizer<4,>=2 in /opt/conda/lib/python3.10/site-packages (from requests->transformers==4.31.0->-r requirements.txt (line 12)) (3.3.2)\r\n",
      "Requirement already satisfied: idna<4,>=2.5 in /opt/conda/lib/python3.10/site-packages (from requests->transformers==4.31.0->-r requirements.txt (line 12)) (3.6)\r\n",
      "Requirement already satisfied: urllib3<3,>=1.21.1 in /opt/conda/lib/python3.10/site-packages (from requests->transformers==4.31.0->-r requirements.txt (line 12)) (1.26.18)\r\n",
      "Requirement already satisfied: certifi>=2017.4.17 in /opt/conda/lib/python3.10/site-packages (from requests->transformers==4.31.0->-r requirements.txt (line 12)) (2024.2.2)\r\n",
      "Requirement already satisfied: mpmath>=0.19 in /opt/conda/lib/python3.10/site-packages (from sympy->torch->-r requirements.txt (line 9)) (1.3.0)\r\n",
      "Downloading einops-0.3.0-py2.py3-none-any.whl (25 kB)\r\n",
      "Downloading imageio-2.9.0-py3-none-any.whl (3.3 MB)\r\n",
      "\u001b[2K   \u001b[90m━━━━━━━━━━━━━━━━━━━━━━━━━━━━━━━━━━━━━━━━\u001b[0m \u001b[32m3.3/3.3 MB\u001b[0m \u001b[31m46.0 MB/s\u001b[0m eta \u001b[36m0:00:00\u001b[0m\r\n",
      "\u001b[?25hDownloading tqdm-4.51.0-py2.py3-none-any.whl (70 kB)\r\n",
      "\u001b[2K   \u001b[90m━━━━━━━━━━━━━━━━━━━━━━━━━━━━━━━━━━━━━━━━\u001b[0m \u001b[32m71.0/71.0 kB\u001b[0m \u001b[31m5.2 MB/s\u001b[0m eta \u001b[36m0:00:00\u001b[0m\r\n",
      "\u001b[?25hDownloading transformers-4.31.0-py3-none-any.whl (7.4 MB)\r\n",
      "\u001b[2K   \u001b[90m━━━━━━━━━━━━━━━━━━━━━━━━━━━━━━━━━━━━━━━━\u001b[0m \u001b[32m7.4/7.4 MB\u001b[0m \u001b[31m92.7 MB/s\u001b[0m eta \u001b[36m0:00:00\u001b[0m\r\n",
      "\u001b[?25hDownloading utils-1.0.1-py2.py3-none-any.whl (21 kB)\r\n",
      "Downloading captum-0.7.0-py3-none-any.whl (1.3 MB)\r\n",
      "\u001b[2K   \u001b[90m━━━━━━━━━━━━━━━━━━━━━━━━━━━━━━━━━━━━━━━━\u001b[0m \u001b[32m1.3/1.3 MB\u001b[0m \u001b[31m52.0 MB/s\u001b[0m eta \u001b[36m0:00:00\u001b[0m\r\n",
      "\u001b[?25hDownloading ftfy-6.2.0-py3-none-any.whl (54 kB)\r\n",
      "\u001b[2K   \u001b[90m━━━━━━━━━━━━━━━━━━━━━━━━━━━━━━━━━━━━━━━━\u001b[0m \u001b[32m54.4/54.4 kB\u001b[0m \u001b[31m3.6 MB/s\u001b[0m eta \u001b[36m0:00:00\u001b[0m\r\n",
      "\u001b[?25hDownloading PyMatting-1.1.12-py3-none-any.whl (52 kB)\r\n",
      "\u001b[2K   \u001b[90m━━━━━━━━━━━━━━━━━━━━━━━━━━━━━━━━━━━━━━━━\u001b[0m \u001b[32m53.0/53.0 kB\u001b[0m \u001b[31m3.0 MB/s\u001b[0m eta \u001b[36m0:00:00\u001b[0m\r\n",
      "\u001b[?25hDownloading tokenizers-0.13.3-cp310-cp310-manylinux_2_17_x86_64.manylinux2014_x86_64.whl (7.8 MB)\r\n",
      "\u001b[2K   \u001b[90m━━━━━━━━━━━━━━━━━━━━━━━━━━━━━━━━━━━━━━━━\u001b[0m \u001b[32m7.8/7.8 MB\u001b[0m \u001b[31m94.5 MB/s\u001b[0m eta \u001b[36m0:00:00\u001b[0m\r\n",
      "\u001b[?25hBuilding wheels for collected packages: wget\r\n",
      "  Building wheel for wget (setup.py) ... \u001b[?25l-\b \b\\\b \bdone\r\n",
      "\u001b[?25h  Created wheel for wget: filename=wget-3.2-py3-none-any.whl size=9655 sha256=3ebf93ce2360665ee39c4f179d32a0f81c0c9216e65dc48582175dcabd5a7abd\r\n",
      "  Stored in directory: /root/.cache/pip/wheels/8b/f1/7f/5c94f0a7a505ca1c81cd1d9208ae2064675d97582078e6c769\r\n",
      "Successfully built wget\r\n",
      "Installing collected packages: wget, tokenizers, einops, utils, tqdm, imageio, ftfy, pymatting, transformers, captum\r\n",
      "  Attempting uninstall: tokenizers\r\n",
      "    Found existing installation: tokenizers 0.15.2\r\n",
      "    Uninstalling tokenizers-0.15.2:\r\n",
      "      Successfully uninstalled tokenizers-0.15.2\r\n",
      "  Attempting uninstall: tqdm\r\n",
      "    Found existing installation: tqdm 4.66.1\r\n",
      "    Uninstalling tqdm-4.66.1:\r\n",
      "      Successfully uninstalled tqdm-4.66.1\r\n",
      "  Attempting uninstall: imageio\r\n",
      "    Found existing installation: imageio 2.33.1\r\n",
      "    Uninstalling imageio-2.33.1:\r\n",
      "      Successfully uninstalled imageio-2.33.1\r\n",
      "  Attempting uninstall: transformers\r\n",
      "    Found existing installation: transformers 4.39.3\r\n",
      "    Uninstalling transformers-4.39.3:\r\n",
      "      Successfully uninstalled transformers-4.39.3\r\n",
      "\u001b[31mERROR: pip's dependency resolver does not currently take into account all the packages that are installed. This behaviour is the source of the following dependency conflicts.\r\n",
      "keras-cv 0.8.2 requires keras-core, which is not installed.\r\n",
      "keras-nlp 0.9.3 requires keras-core, which is not installed.\r\n",
      "beatrix-jupyterlab 2023.128.151533 requires jupyterlab~=3.6.0, but you have jupyterlab 4.1.6 which is incompatible.\r\n",
      "datasets 2.18.0 requires tqdm>=4.62.1, but you have tqdm 4.51.0 which is incompatible.\r\n",
      "fitter 1.7.0 requires tqdm<5.0.0,>=4.65.1, but you have tqdm 4.51.0 which is incompatible.\r\n",
      "kaggle-environments 1.14.3 requires transformers>=4.33.1, but you have transformers 4.31.0 which is incompatible.\r\n",
      "momepy 0.7.0 requires shapely>=2, but you have shapely 1.8.5.post1 which is incompatible.\r\n",
      "momepy 0.7.0 requires tqdm>=4.63.0, but you have tqdm 4.51.0 which is incompatible.\r\n",
      "pytorch-lightning 2.2.2 requires tqdm>=4.57.0, but you have tqdm 4.51.0 which is incompatible.\r\n",
      "scikit-image 0.22.0 requires imageio>=2.27, but you have imageio 2.9.0 which is incompatible.\r\n",
      "spopt 0.6.0 requires shapely>=2.0.1, but you have shapely 1.8.5.post1 which is incompatible.\r\n",
      "spopt 0.6.0 requires tqdm>=4.63.0, but you have tqdm 4.51.0 which is incompatible.\r\n",
      "ydata-profiling 4.6.4 requires numpy<1.26,>=1.16.0, but you have numpy 1.26.4 which is incompatible.\u001b[0m\u001b[31m\r\n",
      "\u001b[0mSuccessfully installed captum-0.7.0 einops-0.3.0 ftfy-6.2.0 imageio-2.9.0 pymatting-1.1.12 tokenizers-0.13.3 tqdm-4.51.0 transformers-4.31.0 utils-1.0.1 wget-3.2\r\n"
     ]
    }
   ],
   "source": [
    "!pip install -r requirements.txt"
   ]
  },
  {
   "cell_type": "code",
   "execution_count": 7,
   "id": "01e4ed3e",
   "metadata": {
    "collapsed": true,
    "execution": {
     "iopub.execute_input": "2024-06-11T15:35:22.327758Z",
     "iopub.status.busy": "2024-06-11T15:35:22.327429Z",
     "iopub.status.idle": "2024-06-11T15:35:22.331730Z",
     "shell.execute_reply": "2024-06-11T15:35:22.330915Z"
    },
    "jupyter": {
     "outputs_hidden": true
    },
    "papermill": {
     "duration": 0.018978,
     "end_time": "2024-06-11T15:35:22.333697",
     "exception": false,
     "start_time": "2024-06-11T15:35:22.314719",
     "status": "completed"
    },
    "tags": []
   },
   "outputs": [],
   "source": [
    "# !python lxmert/lxmert/perturbation.py --COCO_path /kaggle/input/sample-val2014/ --method \"dsm_grad\" --is-positive-pert True"
   ]
  },
  {
   "cell_type": "code",
   "execution_count": 8,
   "id": "2385690e",
   "metadata": {
    "execution": {
     "iopub.execute_input": "2024-06-11T15:35:22.357733Z",
     "iopub.status.busy": "2024-06-11T15:35:22.357487Z",
     "iopub.status.idle": "2024-06-11T15:35:22.360996Z",
     "shell.execute_reply": "2024-06-11T15:35:22.360223Z"
    },
    "papermill": {
     "duration": 0.017605,
     "end_time": "2024-06-11T15:35:22.362789",
     "exception": false,
     "start_time": "2024-06-11T15:35:22.345184",
     "status": "completed"
    },
    "tags": []
   },
   "outputs": [],
   "source": [
    "# Acc: [66.62, 58.65, 55.22, 50.45, 48.06, 47.26, 44.81, 38.86, 39.79]"
   ]
  },
  {
   "cell_type": "code",
   "execution_count": 9,
   "id": "c0c547af",
   "metadata": {
    "execution": {
     "iopub.execute_input": "2024-06-11T15:35:22.386796Z",
     "iopub.status.busy": "2024-06-11T15:35:22.386527Z",
     "iopub.status.idle": "2024-06-11T15:35:22.390234Z",
     "shell.execute_reply": "2024-06-11T15:35:22.389456Z"
    },
    "papermill": {
     "duration": 0.017799,
     "end_time": "2024-06-11T15:35:22.392074",
     "exception": false,
     "start_time": "2024-06-11T15:35:22.374275",
     "status": "completed"
    },
    "tags": []
   },
   "outputs": [],
   "source": [
    "# !python lxmert/lxmert/perturbation.py --COCO_path /kaggle/input/sample-val2014/ --method \"dsm\" --is-positive-pert True --is-text-pert True"
   ]
  },
  {
   "cell_type": "code",
   "execution_count": 10,
   "id": "fcc94bfe",
   "metadata": {
    "collapsed": true,
    "execution": {
     "iopub.execute_input": "2024-06-11T15:35:22.425652Z",
     "iopub.status.busy": "2024-06-11T15:35:22.424318Z",
     "iopub.status.idle": "2024-06-11T15:35:22.429234Z",
     "shell.execute_reply": "2024-06-11T15:35:22.428352Z"
    },
    "jupyter": {
     "outputs_hidden": true
    },
    "papermill": {
     "duration": 0.024875,
     "end_time": "2024-06-11T15:35:22.431396",
     "exception": false,
     "start_time": "2024-06-11T15:35:22.406521",
     "status": "completed"
    },
    "tags": []
   },
   "outputs": [],
   "source": [
    "# !python lxmert/lxmert/perturbation.py --COCO_path /kaggle/input/sample-val2014/ --method \"dsm_grad\""
   ]
  },
  {
   "cell_type": "code",
   "execution_count": 11,
   "id": "9a486ce7",
   "metadata": {
    "collapsed": true,
    "execution": {
     "iopub.execute_input": "2024-06-11T15:35:22.463977Z",
     "iopub.status.busy": "2024-06-11T15:35:22.463702Z",
     "iopub.status.idle": "2024-06-11T16:39:14.676513Z",
     "shell.execute_reply": "2024-06-11T16:39:14.675409Z"
    },
    "jupyter": {
     "outputs_hidden": true
    },
    "papermill": {
     "duration": 3832.230708,
     "end_time": "2024-06-11T16:39:14.678862",
     "exception": false,
     "start_time": "2024-06-11T15:35:22.448154",
     "status": "completed"
    },
    "tags": []
   },
   "outputs": [
    {
     "name": "stdout",
     "output_type": "stream",
     "text": [
      "%s not found in cache or force_download set to True, downloading to %s https://s3.amazonaws.com/models.huggingface.co/bert/unc-nlp/frcnn-vg-finetuned/config.yaml /root/.cache/torch/transformers/tmp8xjhgx40\r\n",
      "Downloading: 100%|█████████████████████████| 2.13k/2.13k [00:00<00:00, 9.43MB/s]\r\n",
      "loading configuration file cache\r\n",
      "%s not found in cache or force_download set to True, downloading to %s https://cdn.huggingface.co/unc-nlp/frcnn-vg-finetuned/pytorch_model.bin /root/.cache/torch/transformers/tmpae703nmc\r\n",
      "Downloading: 100%|███████████████████████████| 262M/262M [00:04<00:00, 52.5MB/s]\r\n",
      "loading weights file https://cdn.huggingface.co/unc-nlp/frcnn-vg-finetuned/pytorch_model.bin from cache at /root/.cache/torch/transformers/57f6df6abe353be2773f2700159c65615babf39ab5b48114d2b49267672ae10f.77b59256a4cf8343ae0f923246a81489fc8d82f98d082edc2d2037c977c0d9d0\r\n",
      "All model checkpoint weights were used when initializing GeneralizedRCNN.\r\n",
      "\r\n",
      "All the weights of GeneralizedRCNN were initialized from the model checkpoint at unc-nlp/frcnn-vg-finetuned.\r\n",
      "If your task is similar to the task the model of the checkpoint was trained on, you can already use GeneralizedRCNN for predictions without further training.\r\n",
      "vocab.txt: 100%|█████████████████████████████| 232k/232k [00:00<00:00, 4.96MB/s]\r\n",
      "special_tokens_map.json: 100%|█████████████████| 112/112 [00:00<00:00, 1.01MB/s]\r\n",
      "tokenizer_config.json: 100%|████████████████████| 153/153 [00:00<00:00, 984kB/s]\r\n",
      "config.json: 100%|█████████████████████████████| 776/776 [00:00<00:00, 6.52MB/s]\r\n",
      "config.json: 100%|█████████████████████████████| 880/880 [00:00<00:00, 5.37MB/s]\r\n",
      "pytorch_model.bin: 100%|██████████████████████| 856M/856M [00:04<00:00, 212MB/s]\r\n",
      "Load 3303 data from split(s) valid.\r\n",
      "Load 3303 data from split(s) valid.\r\n",
      "  0%|                                                  | 0/3303 [00:00<?, ?it/s]running negative pert test for text modality with method dsm_grad_cam\r\n",
      "/opt/conda/lib/python3.10/site-packages/torch/functional.py:504: UserWarning: torch.meshgrid: in an upcoming release, it will be required to pass the indexing argument. (Triggered internally at /usr/local/src/pytorch/aten/src/ATen/native/TensorShape.cpp:3526.)\r\n",
      "  return _VF.meshgrid(tensors, **kwargs)  # type: ignore[attr-defined]\r\n",
      "/kaggle/working/Transformer-MM-Explainability/lxmert/lxmert/src/ExplanationGenerator.py:496: UserWarning: Casting complex values to real discards the imaginary part (Triggered internally at /usr/local/src/pytorch/aten/src/ATen/native/Copy.cpp:299.)\r\n",
      "  eigenvalues, eigenvectors = torch.from_numpy(eigenvalues), torch.from_numpy(eigenvectors.T).float()\r\n",
      "Acc: [66.62, 62.7, 55.17, 33.74, 22.95, 16.95, 5.5, 4.55, 4.52]: 100%|█| 3303/33\r\n",
      "\u001b[0m"
     ]
    }
   ],
   "source": [
    "!python lxmert/lxmert/perturbation.py --COCO_path /kaggle/input/sample-val2014/ --method \"dsm_grad_cam\" --is-text-pert True"
   ]
  },
  {
   "cell_type": "code",
   "execution_count": null,
   "id": "fa49e2aa",
   "metadata": {
    "papermill": {
     "duration": 0.582731,
     "end_time": "2024-06-11T16:39:15.791827",
     "exception": false,
     "start_time": "2024-06-11T16:39:15.209096",
     "status": "completed"
    },
    "tags": []
   },
   "outputs": [],
   "source": []
  }
 ],
 "metadata": {
  "kaggle": {
   "accelerator": "gpu",
   "dataSources": [
    {
     "datasetId": 5110830,
     "sourceId": 8552460,
     "sourceType": "datasetVersion"
    }
   ],
   "dockerImageVersionId": 30699,
   "isGpuEnabled": true,
   "isInternetEnabled": true,
   "language": "python",
   "sourceType": "notebook"
  },
  "kernelspec": {
   "display_name": "Python 3",
   "language": "python",
   "name": "python3"
  },
  "language_info": {
   "codemirror_mode": {
    "name": "ipython",
    "version": 3
   },
   "file_extension": ".py",
   "mimetype": "text/x-python",
   "name": "python",
   "nbconvert_exporter": "python",
   "pygments_lexer": "ipython3",
   "version": "3.10.13"
  },
  "papermill": {
   "default_parameters": {},
   "duration": 3871.617112,
   "end_time": "2024-06-11T16:39:16.552165",
   "environment_variables": {},
   "exception": null,
   "input_path": "__notebook__.ipynb",
   "output_path": "__notebook__.ipynb",
   "parameters": {},
   "start_time": "2024-06-11T15:34:44.935053",
   "version": "2.5.0"
  }
 },
 "nbformat": 4,
 "nbformat_minor": 5
}
