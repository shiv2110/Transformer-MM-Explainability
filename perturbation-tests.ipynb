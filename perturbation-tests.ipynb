{
 "cells": [
  {
   "cell_type": "code",
   "execution_count": 1,
   "id": "96b8f60d",
   "metadata": {
    "_cell_guid": "b1076dfc-b9ad-4769-8c92-a6c4dae69d19",
    "_uuid": "8f2839f25d086af736a60e9eeb907d3b93b6e0e5",
    "execution": {
     "iopub.execute_input": "2024-06-11T09:54:19.015936Z",
     "iopub.status.busy": "2024-06-11T09:54:19.015221Z",
     "iopub.status.idle": "2024-06-11T09:54:19.020116Z",
     "shell.execute_reply": "2024-06-11T09:54:19.019175Z"
    },
    "papermill": {
     "duration": 0.012902,
     "end_time": "2024-06-11T09:54:19.021982",
     "exception": false,
     "start_time": "2024-06-11T09:54:19.009080",
     "status": "completed"
    },
    "tags": []
   },
   "outputs": [],
   "source": [
    "# import os"
   ]
  },
  {
   "cell_type": "code",
   "execution_count": 2,
   "id": "2251ef5f",
   "metadata": {
    "execution": {
     "iopub.execute_input": "2024-06-11T09:54:19.031449Z",
     "iopub.status.busy": "2024-06-11T09:54:19.031163Z",
     "iopub.status.idle": "2024-06-11T09:54:28.272125Z",
     "shell.execute_reply": "2024-06-11T09:54:28.270987Z"
    },
    "papermill": {
     "duration": 9.248433,
     "end_time": "2024-06-11T09:54:28.274680",
     "exception": false,
     "start_time": "2024-06-11T09:54:19.026247",
     "status": "completed"
    },
    "tags": []
   },
   "outputs": [
    {
     "name": "stdout",
     "output_type": "stream",
     "text": [
      "Cloning into 'Transformer-MM-Explainability'...\r\n",
      "remote: Enumerating objects: 2535, done.\u001b[K\r\n",
      "remote: Counting objects: 100% (961/961), done.\u001b[K\r\n",
      "remote: Compressing objects: 100% (535/535), done.\u001b[K\r\n",
      "remote: Total 2535 (delta 474), reused 808 (delta 375), pack-reused 1574\u001b[K\r\n",
      "Receiving objects: 100% (2535/2535), 56.10 MiB | 11.29 MiB/s, done.\r\n",
      "Resolving deltas: 100% (1157/1157), done.\r\n"
     ]
    }
   ],
   "source": [
    "!git clone https://github.com/shiv2110/Transformer-MM-Explainability"
   ]
  },
  {
   "cell_type": "code",
   "execution_count": 3,
   "id": "a19154aa",
   "metadata": {
    "execution": {
     "iopub.execute_input": "2024-06-11T09:54:28.290894Z",
     "iopub.status.busy": "2024-06-11T09:54:28.290588Z",
     "iopub.status.idle": "2024-06-11T09:54:28.294871Z",
     "shell.execute_reply": "2024-06-11T09:54:28.293963Z"
    },
    "papermill": {
     "duration": 0.014812,
     "end_time": "2024-06-11T09:54:28.296895",
     "exception": false,
     "start_time": "2024-06-11T09:54:28.282083",
     "status": "completed"
    },
    "tags": []
   },
   "outputs": [],
   "source": [
    "# !ls /kaggle/input"
   ]
  },
  {
   "cell_type": "code",
   "execution_count": 4,
   "id": "34fee033",
   "metadata": {
    "execution": {
     "iopub.execute_input": "2024-06-11T09:54:28.312617Z",
     "iopub.status.busy": "2024-06-11T09:54:28.312317Z",
     "iopub.status.idle": "2024-06-11T09:54:28.318043Z",
     "shell.execute_reply": "2024-06-11T09:54:28.317155Z"
    },
    "papermill": {
     "duration": 0.015796,
     "end_time": "2024-06-11T09:54:28.320210",
     "exception": false,
     "start_time": "2024-06-11T09:54:28.304414",
     "status": "completed"
    },
    "tags": []
   },
   "outputs": [
    {
     "name": "stdout",
     "output_type": "stream",
     "text": [
      "/kaggle/working/Transformer-MM-Explainability\n"
     ]
    }
   ],
   "source": [
    "%cd Transformer-MM-Explainability"
   ]
  },
  {
   "cell_type": "code",
   "execution_count": null,
   "id": "cab69d3f",
   "metadata": {
    "papermill": {
     "duration": 0.006881,
     "end_time": "2024-06-11T09:54:28.334148",
     "exception": false,
     "start_time": "2024-06-11T09:54:28.327267",
     "status": "completed"
    },
    "tags": []
   },
   "outputs": [],
   "source": []
  },
  {
   "cell_type": "code",
   "execution_count": 5,
   "id": "b6b43e07",
   "metadata": {
    "execution": {
     "iopub.execute_input": "2024-06-11T09:54:28.349322Z",
     "iopub.status.busy": "2024-06-11T09:54:28.348803Z",
     "iopub.status.idle": "2024-06-11T09:54:29.287503Z",
     "shell.execute_reply": "2024-06-11T09:54:29.286487Z"
    },
    "papermill": {
     "duration": 0.949173,
     "end_time": "2024-06-11T09:54:29.290140",
     "exception": false,
     "start_time": "2024-06-11T09:54:28.340967",
     "status": "completed"
    },
    "tags": []
   },
   "outputs": [
    {
     "name": "stdout",
     "output_type": "stream",
     "text": [
      "/kaggle/working/Transformer-MM-Explainability\r\n"
     ]
    }
   ],
   "source": [
    "!pwd"
   ]
  },
  {
   "cell_type": "code",
   "execution_count": 6,
   "id": "51ab3bc6",
   "metadata": {
    "execution": {
     "iopub.execute_input": "2024-06-11T09:54:29.306251Z",
     "iopub.status.busy": "2024-06-11T09:54:29.305955Z",
     "iopub.status.idle": "2024-06-11T09:54:58.213838Z",
     "shell.execute_reply": "2024-06-11T09:54:58.212465Z"
    },
    "papermill": {
     "duration": 28.918947,
     "end_time": "2024-06-11T09:54:58.216369",
     "exception": false,
     "start_time": "2024-06-11T09:54:29.297422",
     "status": "completed"
    },
    "tags": []
   },
   "outputs": [
    {
     "name": "stdout",
     "output_type": "stream",
     "text": [
      "Requirement already satisfied: Pillow>=8.1.1 in /opt/conda/lib/python3.10/site-packages (from -r requirements.txt (line 1)) (9.5.0)\r\n",
      "Collecting einops==0.3.0 (from -r requirements.txt (line 2))\r\n",
      "  Downloading einops-0.3.0-py2.py3-none-any.whl.metadata (10 kB)\r\n",
      "Collecting imageio==2.9.0 (from -r requirements.txt (line 3))\r\n",
      "  Downloading imageio-2.9.0-py3-none-any.whl.metadata (2.6 kB)\r\n",
      "Requirement already satisfied: matplotlib in /opt/conda/lib/python3.10/site-packages (from -r requirements.txt (line 4)) (3.7.5)\r\n",
      "Requirement already satisfied: numpy in /opt/conda/lib/python3.10/site-packages (from -r requirements.txt (line 5)) (1.26.4)\r\n",
      "Requirement already satisfied: opencv_python in /opt/conda/lib/python3.10/site-packages (from -r requirements.txt (line 6)) (4.9.0.80)\r\n",
      "Requirement already satisfied: scipy in /opt/conda/lib/python3.10/site-packages (from -r requirements.txt (line 7)) (1.11.4)\r\n",
      "Requirement already satisfied: scikit-learn in /opt/conda/lib/python3.10/site-packages (from -r requirements.txt (line 8)) (1.2.2)\r\n",
      "Requirement already satisfied: torch in /opt/conda/lib/python3.10/site-packages (from -r requirements.txt (line 9)) (2.1.2)\r\n",
      "Requirement already satisfied: torchvision in /opt/conda/lib/python3.10/site-packages (from -r requirements.txt (line 10)) (0.16.2)\r\n",
      "Collecting tqdm==4.51.0 (from -r requirements.txt (line 11))\r\n",
      "  Downloading tqdm-4.51.0-py2.py3-none-any.whl.metadata (55 kB)\r\n",
      "\u001b[2K     \u001b[90m━━━━━━━━━━━━━━━━━━━━━━━━━━━━━━━━━━━━━━━━\u001b[0m \u001b[32m55.7/55.7 kB\u001b[0m \u001b[31m3.5 MB/s\u001b[0m eta \u001b[36m0:00:00\u001b[0m\r\n",
      "\u001b[?25hCollecting transformers==4.31.0 (from -r requirements.txt (line 12))\r\n",
      "  Downloading transformers-4.31.0-py3-none-any.whl.metadata (116 kB)\r\n",
      "\u001b[2K     \u001b[90m━━━━━━━━━━━━━━━━━━━━━━━━━━━━━━━━━━━━━━━\u001b[0m \u001b[32m116.9/116.9 kB\u001b[0m \u001b[31m6.9 MB/s\u001b[0m eta \u001b[36m0:00:00\u001b[0m\r\n",
      "\u001b[?25hCollecting utils==1.0.1 (from -r requirements.txt (line 13))\r\n",
      "  Downloading utils-1.0.1-py2.py3-none-any.whl.metadata (4.6 kB)\r\n",
      "Collecting captum (from -r requirements.txt (line 14))\r\n",
      "  Downloading captum-0.7.0-py3-none-any.whl.metadata (26 kB)\r\n",
      "Collecting wget (from -r requirements.txt (line 15))\r\n",
      "  Downloading wget-3.2.zip (10 kB)\r\n",
      "  Preparing metadata (setup.py) ... \u001b[?25l-\b \bdone\r\n",
      "\u001b[?25hCollecting ftfy (from -r requirements.txt (line 16))\r\n",
      "  Downloading ftfy-6.2.0-py3-none-any.whl.metadata (7.3 kB)\r\n",
      "Requirement already satisfied: regex in /opt/conda/lib/python3.10/site-packages (from -r requirements.txt (line 17)) (2023.12.25)\r\n",
      "Collecting pymatting (from -r requirements.txt (line 18))\r\n",
      "  Downloading PyMatting-1.1.12-py3-none-any.whl.metadata (7.4 kB)\r\n",
      "Requirement already satisfied: munkres in /opt/conda/lib/python3.10/site-packages (from -r requirements.txt (line 19)) (1.1.4)\r\n",
      "Requirement already satisfied: filelock in /opt/conda/lib/python3.10/site-packages (from transformers==4.31.0->-r requirements.txt (line 12)) (3.13.1)\r\n",
      "Requirement already satisfied: huggingface-hub<1.0,>=0.14.1 in /opt/conda/lib/python3.10/site-packages (from transformers==4.31.0->-r requirements.txt (line 12)) (0.22.2)\r\n",
      "Requirement already satisfied: packaging>=20.0 in /opt/conda/lib/python3.10/site-packages (from transformers==4.31.0->-r requirements.txt (line 12)) (21.3)\r\n",
      "Requirement already satisfied: pyyaml>=5.1 in /opt/conda/lib/python3.10/site-packages (from transformers==4.31.0->-r requirements.txt (line 12)) (6.0.1)\r\n",
      "Requirement already satisfied: requests in /opt/conda/lib/python3.10/site-packages (from transformers==4.31.0->-r requirements.txt (line 12)) (2.31.0)\r\n",
      "Collecting tokenizers!=0.11.3,<0.14,>=0.11.1 (from transformers==4.31.0->-r requirements.txt (line 12))\r\n",
      "  Downloading tokenizers-0.13.3-cp310-cp310-manylinux_2_17_x86_64.manylinux2014_x86_64.whl.metadata (6.7 kB)\r\n",
      "Requirement already satisfied: safetensors>=0.3.1 in /opt/conda/lib/python3.10/site-packages (from transformers==4.31.0->-r requirements.txt (line 12)) (0.4.3)\r\n",
      "Requirement already satisfied: contourpy>=1.0.1 in /opt/conda/lib/python3.10/site-packages (from matplotlib->-r requirements.txt (line 4)) (1.2.0)\r\n",
      "Requirement already satisfied: cycler>=0.10 in /opt/conda/lib/python3.10/site-packages (from matplotlib->-r requirements.txt (line 4)) (0.12.1)\r\n",
      "Requirement already satisfied: fonttools>=4.22.0 in /opt/conda/lib/python3.10/site-packages (from matplotlib->-r requirements.txt (line 4)) (4.47.0)\r\n",
      "Requirement already satisfied: kiwisolver>=1.0.1 in /opt/conda/lib/python3.10/site-packages (from matplotlib->-r requirements.txt (line 4)) (1.4.5)\r\n",
      "Requirement already satisfied: pyparsing>=2.3.1 in /opt/conda/lib/python3.10/site-packages (from matplotlib->-r requirements.txt (line 4)) (3.1.1)\r\n",
      "Requirement already satisfied: python-dateutil>=2.7 in /opt/conda/lib/python3.10/site-packages (from matplotlib->-r requirements.txt (line 4)) (2.9.0.post0)\r\n",
      "Requirement already satisfied: joblib>=1.1.1 in /opt/conda/lib/python3.10/site-packages (from scikit-learn->-r requirements.txt (line 8)) (1.4.0)\r\n",
      "Requirement already satisfied: threadpoolctl>=2.0.0 in /opt/conda/lib/python3.10/site-packages (from scikit-learn->-r requirements.txt (line 8)) (3.2.0)\r\n",
      "Requirement already satisfied: typing-extensions in /opt/conda/lib/python3.10/site-packages (from torch->-r requirements.txt (line 9)) (4.9.0)\r\n",
      "Requirement already satisfied: sympy in /opt/conda/lib/python3.10/site-packages (from torch->-r requirements.txt (line 9)) (1.12)\r\n",
      "Requirement already satisfied: networkx in /opt/conda/lib/python3.10/site-packages (from torch->-r requirements.txt (line 9)) (3.2.1)\r\n",
      "Requirement already satisfied: jinja2 in /opt/conda/lib/python3.10/site-packages (from torch->-r requirements.txt (line 9)) (3.1.2)\r\n",
      "Requirement already satisfied: fsspec in /opt/conda/lib/python3.10/site-packages (from torch->-r requirements.txt (line 9)) (2024.2.0)\r\n",
      "Requirement already satisfied: wcwidth<0.3.0,>=0.2.12 in /opt/conda/lib/python3.10/site-packages (from ftfy->-r requirements.txt (line 16)) (0.2.13)\r\n",
      "Requirement already satisfied: numba!=0.49.0 in /opt/conda/lib/python3.10/site-packages (from pymatting->-r requirements.txt (line 18)) (0.58.1)\r\n",
      "Requirement already satisfied: llvmlite<0.42,>=0.41.0dev0 in /opt/conda/lib/python3.10/site-packages (from numba!=0.49.0->pymatting->-r requirements.txt (line 18)) (0.41.1)\r\n",
      "Requirement already satisfied: six>=1.5 in /opt/conda/lib/python3.10/site-packages (from python-dateutil>=2.7->matplotlib->-r requirements.txt (line 4)) (1.16.0)\r\n",
      "Requirement already satisfied: MarkupSafe>=2.0 in /opt/conda/lib/python3.10/site-packages (from jinja2->torch->-r requirements.txt (line 9)) (2.1.3)\r\n",
      "Requirement already satisfied: charset-normalizer<4,>=2 in /opt/conda/lib/python3.10/site-packages (from requests->transformers==4.31.0->-r requirements.txt (line 12)) (3.3.2)\r\n",
      "Requirement already satisfied: idna<4,>=2.5 in /opt/conda/lib/python3.10/site-packages (from requests->transformers==4.31.0->-r requirements.txt (line 12)) (3.6)\r\n",
      "Requirement already satisfied: urllib3<3,>=1.21.1 in /opt/conda/lib/python3.10/site-packages (from requests->transformers==4.31.0->-r requirements.txt (line 12)) (1.26.18)\r\n",
      "Requirement already satisfied: certifi>=2017.4.17 in /opt/conda/lib/python3.10/site-packages (from requests->transformers==4.31.0->-r requirements.txt (line 12)) (2024.2.2)\r\n",
      "Requirement already satisfied: mpmath>=0.19 in /opt/conda/lib/python3.10/site-packages (from sympy->torch->-r requirements.txt (line 9)) (1.3.0)\r\n",
      "Downloading einops-0.3.0-py2.py3-none-any.whl (25 kB)\r\n",
      "Downloading imageio-2.9.0-py3-none-any.whl (3.3 MB)\r\n",
      "\u001b[2K   \u001b[90m━━━━━━━━━━━━━━━━━━━━━━━━━━━━━━━━━━━━━━━━\u001b[0m \u001b[32m3.3/3.3 MB\u001b[0m \u001b[31m76.9 MB/s\u001b[0m eta \u001b[36m0:00:00\u001b[0m\r\n",
      "\u001b[?25hDownloading tqdm-4.51.0-py2.py3-none-any.whl (70 kB)\r\n",
      "\u001b[2K   \u001b[90m━━━━━━━━━━━━━━━━━━━━━━━━━━━━━━━━━━━━━━━━\u001b[0m \u001b[32m71.0/71.0 kB\u001b[0m \u001b[31m4.9 MB/s\u001b[0m eta \u001b[36m0:00:00\u001b[0m\r\n",
      "\u001b[?25hDownloading transformers-4.31.0-py3-none-any.whl (7.4 MB)\r\n",
      "\u001b[2K   \u001b[90m━━━━━━━━━━━━━━━━━━━━━━━━━━━━━━━━━━━━━━━━\u001b[0m \u001b[32m7.4/7.4 MB\u001b[0m \u001b[31m92.4 MB/s\u001b[0m eta \u001b[36m0:00:00\u001b[0m\r\n",
      "\u001b[?25hDownloading utils-1.0.1-py2.py3-none-any.whl (21 kB)\r\n",
      "Downloading captum-0.7.0-py3-none-any.whl (1.3 MB)\r\n",
      "\u001b[2K   \u001b[90m━━━━━━━━━━━━━━━━━━━━━━━━━━━━━━━━━━━━━━━━\u001b[0m \u001b[32m1.3/1.3 MB\u001b[0m \u001b[31m49.5 MB/s\u001b[0m eta \u001b[36m0:00:00\u001b[0m\r\n",
      "\u001b[?25hDownloading ftfy-6.2.0-py3-none-any.whl (54 kB)\r\n",
      "\u001b[2K   \u001b[90m━━━━━━━━━━━━━━━━━━━━━━━━━━━━━━━━━━━━━━━━\u001b[0m \u001b[32m54.4/54.4 kB\u001b[0m \u001b[31m3.7 MB/s\u001b[0m eta \u001b[36m0:00:00\u001b[0m\r\n",
      "\u001b[?25hDownloading PyMatting-1.1.12-py3-none-any.whl (52 kB)\r\n",
      "\u001b[2K   \u001b[90m━━━━━━━━━━━━━━━━━━━━━━━━━━━━━━━━━━━━━━━━\u001b[0m \u001b[32m53.0/53.0 kB\u001b[0m \u001b[31m3.3 MB/s\u001b[0m eta \u001b[36m0:00:00\u001b[0m\r\n",
      "\u001b[?25hDownloading tokenizers-0.13.3-cp310-cp310-manylinux_2_17_x86_64.manylinux2014_x86_64.whl (7.8 MB)\r\n",
      "\u001b[2K   \u001b[90m━━━━━━━━━━━━━━━━━━━━━━━━━━━━━━━━━━━━━━━━\u001b[0m \u001b[32m7.8/7.8 MB\u001b[0m \u001b[31m94.4 MB/s\u001b[0m eta \u001b[36m0:00:00\u001b[0m\r\n",
      "\u001b[?25hBuilding wheels for collected packages: wget\r\n",
      "  Building wheel for wget (setup.py) ... \u001b[?25l-\b \b\\\b \bdone\r\n",
      "\u001b[?25h  Created wheel for wget: filename=wget-3.2-py3-none-any.whl size=9655 sha256=7e51688f9431402762abe28f8e9ca42b90519eb0e50d271b84b517ba2f361bae\r\n",
      "  Stored in directory: /root/.cache/pip/wheels/8b/f1/7f/5c94f0a7a505ca1c81cd1d9208ae2064675d97582078e6c769\r\n",
      "Successfully built wget\r\n",
      "Installing collected packages: wget, tokenizers, einops, utils, tqdm, imageio, ftfy, pymatting, transformers, captum\r\n",
      "  Attempting uninstall: tokenizers\r\n",
      "    Found existing installation: tokenizers 0.15.2\r\n",
      "    Uninstalling tokenizers-0.15.2:\r\n",
      "      Successfully uninstalled tokenizers-0.15.2\r\n",
      "  Attempting uninstall: tqdm\r\n",
      "    Found existing installation: tqdm 4.66.1\r\n",
      "    Uninstalling tqdm-4.66.1:\r\n",
      "      Successfully uninstalled tqdm-4.66.1\r\n",
      "  Attempting uninstall: imageio\r\n",
      "    Found existing installation: imageio 2.33.1\r\n",
      "    Uninstalling imageio-2.33.1:\r\n",
      "      Successfully uninstalled imageio-2.33.1\r\n",
      "  Attempting uninstall: transformers\r\n",
      "    Found existing installation: transformers 4.39.3\r\n",
      "    Uninstalling transformers-4.39.3:\r\n",
      "      Successfully uninstalled transformers-4.39.3\r\n",
      "\u001b[31mERROR: pip's dependency resolver does not currently take into account all the packages that are installed. This behaviour is the source of the following dependency conflicts.\r\n",
      "keras-cv 0.8.2 requires keras-core, which is not installed.\r\n",
      "keras-nlp 0.9.3 requires keras-core, which is not installed.\r\n",
      "beatrix-jupyterlab 2023.128.151533 requires jupyterlab~=3.6.0, but you have jupyterlab 4.1.6 which is incompatible.\r\n",
      "datasets 2.18.0 requires tqdm>=4.62.1, but you have tqdm 4.51.0 which is incompatible.\r\n",
      "fitter 1.7.0 requires tqdm<5.0.0,>=4.65.1, but you have tqdm 4.51.0 which is incompatible.\r\n",
      "kaggle-environments 1.14.3 requires transformers>=4.33.1, but you have transformers 4.31.0 which is incompatible.\r\n",
      "momepy 0.7.0 requires shapely>=2, but you have shapely 1.8.5.post1 which is incompatible.\r\n",
      "momepy 0.7.0 requires tqdm>=4.63.0, but you have tqdm 4.51.0 which is incompatible.\r\n",
      "pytorch-lightning 2.2.2 requires tqdm>=4.57.0, but you have tqdm 4.51.0 which is incompatible.\r\n",
      "scikit-image 0.22.0 requires imageio>=2.27, but you have imageio 2.9.0 which is incompatible.\r\n",
      "spopt 0.6.0 requires shapely>=2.0.1, but you have shapely 1.8.5.post1 which is incompatible.\r\n",
      "spopt 0.6.0 requires tqdm>=4.63.0, but you have tqdm 4.51.0 which is incompatible.\r\n",
      "ydata-profiling 4.6.4 requires numpy<1.26,>=1.16.0, but you have numpy 1.26.4 which is incompatible.\u001b[0m\u001b[31m\r\n",
      "\u001b[0mSuccessfully installed captum-0.7.0 einops-0.3.0 ftfy-6.2.0 imageio-2.9.0 pymatting-1.1.12 tokenizers-0.13.3 tqdm-4.51.0 transformers-4.31.0 utils-1.0.1 wget-3.2\r\n"
     ]
    }
   ],
   "source": [
    "!pip install -r requirements.txt"
   ]
  },
  {
   "cell_type": "code",
   "execution_count": 7,
   "id": "0c567de5",
   "metadata": {
    "collapsed": true,
    "execution": {
     "iopub.execute_input": "2024-06-11T09:54:58.240818Z",
     "iopub.status.busy": "2024-06-11T09:54:58.240489Z",
     "iopub.status.idle": "2024-06-11T09:56:29.192276Z",
     "shell.execute_reply": "2024-06-11T09:56:29.190876Z"
    },
    "jupyter": {
     "outputs_hidden": true
    },
    "papermill": {
     "duration": 90.967512,
     "end_time": "2024-06-11T09:56:29.195386",
     "exception": false,
     "start_time": "2024-06-11T09:54:58.227874",
     "status": "completed"
    },
    "tags": []
   },
   "outputs": [
    {
     "name": "stdout",
     "output_type": "stream",
     "text": [
      "%s not found in cache or force_download set to True, downloading to %s https://s3.amazonaws.com/models.huggingface.co/bert/unc-nlp/frcnn-vg-finetuned/config.yaml /root/.cache/torch/transformers/tmpviknkijw\r\n",
      "Downloading: 100%|█████████████████████████| 2.13k/2.13k [00:00<00:00, 7.11MB/s]\r\n",
      "loading configuration file cache\r\n",
      "%s not found in cache or force_download set to True, downloading to %s https://cdn.huggingface.co/unc-nlp/frcnn-vg-finetuned/pytorch_model.bin /root/.cache/torch/transformers/tmps0ixizfo\r\n",
      "Downloading: 100%|███████████████████████████| 262M/262M [00:06<00:00, 38.2MB/s]\r\n",
      "loading weights file https://cdn.huggingface.co/unc-nlp/frcnn-vg-finetuned/pytorch_model.bin from cache at /root/.cache/torch/transformers/57f6df6abe353be2773f2700159c65615babf39ab5b48114d2b49267672ae10f.77b59256a4cf8343ae0f923246a81489fc8d82f98d082edc2d2037c977c0d9d0\r\n",
      "All model checkpoint weights were used when initializing GeneralizedRCNN.\r\n",
      "\r\n",
      "All the weights of GeneralizedRCNN were initialized from the model checkpoint at unc-nlp/frcnn-vg-finetuned.\r\n",
      "If your task is similar to the task the model of the checkpoint was trained on, you can already use GeneralizedRCNN for predictions without further training.\r\n",
      "vocab.txt: 100%|██████████████████████████████| 232k/232k [00:00<00:00, 576kB/s]\r\n",
      "special_tokens_map.json: 100%|██████████████████| 112/112 [00:00<00:00, 553kB/s]\r\n",
      "tokenizer_config.json: 100%|████████████████████| 153/153 [00:00<00:00, 824kB/s]\r\n",
      "config.json: 100%|█████████████████████████████| 776/776 [00:00<00:00, 4.03MB/s]\r\n",
      "config.json: 100%|█████████████████████████████| 880/880 [00:00<00:00, 4.42MB/s]\r\n",
      "pytorch_model.bin: 100%|█████████████████████| 856M/856M [00:20<00:00, 41.4MB/s]\r\n",
      "Load 3303 data from split(s) valid.\r\n",
      "Load 3303 data from split(s) valid.\r\n",
      "  0%|                                                  | 0/3303 [00:00<?, ?it/s]running positive pert test for image modality with method dsm_grad\r\n",
      "  0%|                                                  | 0/3303 [00:00<?, ?it/s]\r\n",
      "Traceback (most recent call last):\r\n",
      "  File \"/kaggle/working/Transformer-MM-Explainability/lxmert/lxmert/perturbation.py\", line 312, in <module>\r\n",
      "    main(args)\r\n",
      "  File \"/kaggle/working/Transformer-MM-Explainability/lxmert/lxmert/perturbation.py\", line 279, in main\r\n",
      "    R_t_t, R_t_i = ours.generate_ours_dsm_grad(item, use_lrp = False)\r\n",
      "TypeError: GeneratorOurs.generate_ours_dsm_grad() got an unexpected keyword argument 'use_lrp'\r\n",
      "\u001b[0m"
     ]
    }
   ],
   "source": [
    "!python lxmert/lxmert/perturbation.py --COCO_path /kaggle/input/sample-val2014/ --method \"dsm_grad\" --is-positive-pert True"
   ]
  },
  {
   "cell_type": "code",
   "execution_count": 8,
   "id": "a64718ba",
   "metadata": {
    "execution": {
     "iopub.execute_input": "2024-06-11T09:56:29.251820Z",
     "iopub.status.busy": "2024-06-11T09:56:29.251272Z",
     "iopub.status.idle": "2024-06-11T09:56:29.256992Z",
     "shell.execute_reply": "2024-06-11T09:56:29.255864Z"
    },
    "papermill": {
     "duration": 0.036903,
     "end_time": "2024-06-11T09:56:29.259696",
     "exception": false,
     "start_time": "2024-06-11T09:56:29.222793",
     "status": "completed"
    },
    "tags": []
   },
   "outputs": [],
   "source": [
    "# Acc: [66.62, 58.65, 55.22, 50.45, 48.06, 47.26, 44.81, 38.86, 39.79]"
   ]
  },
  {
   "cell_type": "code",
   "execution_count": 9,
   "id": "465b43d2",
   "metadata": {
    "execution": {
     "iopub.execute_input": "2024-06-11T09:56:29.314819Z",
     "iopub.status.busy": "2024-06-11T09:56:29.313675Z",
     "iopub.status.idle": "2024-06-11T09:56:29.318763Z",
     "shell.execute_reply": "2024-06-11T09:56:29.317760Z"
    },
    "papermill": {
     "duration": 0.034892,
     "end_time": "2024-06-11T09:56:29.320979",
     "exception": false,
     "start_time": "2024-06-11T09:56:29.286087",
     "status": "completed"
    },
    "tags": []
   },
   "outputs": [],
   "source": [
    "# !python lxmert/lxmert/perturbation.py --COCO_path /kaggle/input/sample-val2014/ --method \"dsm\" --is-positive-pert True --is-text-pert True"
   ]
  },
  {
   "cell_type": "code",
   "execution_count": 10,
   "id": "f847c479",
   "metadata": {
    "collapsed": true,
    "execution": {
     "iopub.execute_input": "2024-06-11T09:56:29.383464Z",
     "iopub.status.busy": "2024-06-11T09:56:29.382417Z",
     "iopub.status.idle": "2024-06-11T09:56:29.387737Z",
     "shell.execute_reply": "2024-06-11T09:56:29.386444Z"
    },
    "jupyter": {
     "outputs_hidden": true
    },
    "papermill": {
     "duration": 0.038524,
     "end_time": "2024-06-11T09:56:29.389808",
     "exception": false,
     "start_time": "2024-06-11T09:56:29.351284",
     "status": "completed"
    },
    "tags": []
   },
   "outputs": [],
   "source": [
    "# !python lxmert/lxmert/perturbation.py --COCO_path /kaggle/input/sample-val2014/ --method \"dsm\""
   ]
  },
  {
   "cell_type": "code",
   "execution_count": 11,
   "id": "2040628e",
   "metadata": {
    "collapsed": true,
    "execution": {
     "iopub.execute_input": "2024-06-11T09:56:29.450981Z",
     "iopub.status.busy": "2024-06-11T09:56:29.450061Z",
     "iopub.status.idle": "2024-06-11T09:56:29.455429Z",
     "shell.execute_reply": "2024-06-11T09:56:29.454374Z"
    },
    "jupyter": {
     "outputs_hidden": true
    },
    "papermill": {
     "duration": 0.038244,
     "end_time": "2024-06-11T09:56:29.457545",
     "exception": false,
     "start_time": "2024-06-11T09:56:29.419301",
     "status": "completed"
    },
    "tags": []
   },
   "outputs": [],
   "source": [
    "# !python lxmert/lxmert/perturbation.py --COCO_path /kaggle/input/sample-val2014/ --method \"dsm\" --is-text-pert True"
   ]
  },
  {
   "cell_type": "code",
   "execution_count": null,
   "id": "1c2b4532",
   "metadata": {
    "papermill": {
     "duration": 0.029612,
     "end_time": "2024-06-11T09:56:29.522864",
     "exception": false,
     "start_time": "2024-06-11T09:56:29.493252",
     "status": "completed"
    },
    "tags": []
   },
   "outputs": [],
   "source": []
  }
 ],
 "metadata": {
  "kaggle": {
   "accelerator": "gpu",
   "dataSources": [
    {
     "datasetId": 5110830,
     "sourceId": 8552460,
     "sourceType": "datasetVersion"
    }
   ],
   "dockerImageVersionId": 30699,
   "isGpuEnabled": true,
   "isInternetEnabled": true,
   "language": "python",
   "sourceType": "notebook"
  },
  "kernelspec": {
   "display_name": "Python 3",
   "language": "python",
   "name": "python3"
  },
  "language_info": {
   "codemirror_mode": {
    "name": "ipython",
    "version": 3
   },
   "file_extension": ".py",
   "mimetype": "text/x-python",
   "name": "python",
   "nbconvert_exporter": "python",
   "pygments_lexer": "ipython3",
   "version": "3.10.13"
  },
  "papermill": {
   "default_parameters": {},
   "duration": 133.641834,
   "end_time": "2024-06-11T09:56:29.872724",
   "environment_variables": {},
   "exception": null,
   "input_path": "__notebook__.ipynb",
   "output_path": "__notebook__.ipynb",
   "parameters": {},
   "start_time": "2024-06-11T09:54:16.230890",
   "version": "2.5.0"
  }
 },
 "nbformat": 4,
 "nbformat_minor": 5
}
